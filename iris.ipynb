{
 "cells": [
  {
   "cell_type": "code",
   "execution_count": null,
   "id": "a7fadeab",
   "metadata": {
    "vscode": {
     "languageId": "plaintext"
    }
   },
   "outputs": [],
   "source": [
    "# 1. Hello python\n",
    "name = \"Bormon\"\n",
    "goals = ['learn ML', 'learn DL','deeply learn DL']\n",
    "\n",
    "print (\"Hello,\",name,\"!\")\n",
    "print(\"Hello,\"+ name + \"!\")\n",
    "#for(1 starting points;2 end condition; 4 next step;){3excecuting code}\n",
    "print(\"-\",g)\n",
    "# if - elif -else\n",
    "if \"learn ML \" in goals:\n",
    "print(\"lets learn ML\")"
   ]
  },
  {
   "cell_type": "code",
   "execution_count": null,
   "id": "8c2a9b96",
   "metadata": {
    "vscode": {
     "languageId": "plaintext"
    }
   },
   "outputs": [],
   "source": []
  }
 ],
 "metadata": {
  "language_info": {
   "name": "python"
  }
 },
 "nbformat": 4,
 "nbformat_minor": 5
}
